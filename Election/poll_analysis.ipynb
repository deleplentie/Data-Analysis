{
 "cells": [
  {
   "cell_type": "code",
   "execution_count": 1,
   "id": "8acc4c40",
   "metadata": {},
   "outputs": [
    {
     "data": {
      "text/html": [
       "<div>\n",
       "<style scoped>\n",
       "    .dataframe tbody tr th:only-of-type {\n",
       "        vertical-align: middle;\n",
       "    }\n",
       "\n",
       "    .dataframe tbody tr th {\n",
       "        vertical-align: top;\n",
       "    }\n",
       "\n",
       "    .dataframe thead th {\n",
       "        text-align: right;\n",
       "    }\n",
       "</style>\n",
       "<table border=\"1\" class=\"dataframe\">\n",
       "  <thead>\n",
       "    <tr style=\"text-align: right;\">\n",
       "      <th></th>\n",
       "      <th>Ballot ID</th>\n",
       "      <th>County</th>\n",
       "      <th>Candidate</th>\n",
       "    </tr>\n",
       "  </thead>\n",
       "  <tbody>\n",
       "    <tr>\n",
       "      <th>0</th>\n",
       "      <td>1323913</td>\n",
       "      <td>Jefferson</td>\n",
       "      <td>Charles Casper Stockham</td>\n",
       "    </tr>\n",
       "    <tr>\n",
       "      <th>1</th>\n",
       "      <td>1005842</td>\n",
       "      <td>Jefferson</td>\n",
       "      <td>Charles Casper Stockham</td>\n",
       "    </tr>\n",
       "    <tr>\n",
       "      <th>2</th>\n",
       "      <td>1880345</td>\n",
       "      <td>Jefferson</td>\n",
       "      <td>Charles Casper Stockham</td>\n",
       "    </tr>\n",
       "    <tr>\n",
       "      <th>3</th>\n",
       "      <td>1600337</td>\n",
       "      <td>Jefferson</td>\n",
       "      <td>Charles Casper Stockham</td>\n",
       "    </tr>\n",
       "    <tr>\n",
       "      <th>4</th>\n",
       "      <td>1835994</td>\n",
       "      <td>Jefferson</td>\n",
       "      <td>Charles Casper Stockham</td>\n",
       "    </tr>\n",
       "    <tr>\n",
       "      <th>...</th>\n",
       "      <td>...</td>\n",
       "      <td>...</td>\n",
       "      <td>...</td>\n",
       "    </tr>\n",
       "    <tr>\n",
       "      <th>369706</th>\n",
       "      <td>4714953</td>\n",
       "      <td>Arapahoe</td>\n",
       "      <td>Raymon Anthony Doane</td>\n",
       "    </tr>\n",
       "    <tr>\n",
       "      <th>369707</th>\n",
       "      <td>4497542</td>\n",
       "      <td>Arapahoe</td>\n",
       "      <td>Raymon Anthony Doane</td>\n",
       "    </tr>\n",
       "    <tr>\n",
       "      <th>369708</th>\n",
       "      <td>4085849</td>\n",
       "      <td>Arapahoe</td>\n",
       "      <td>Raymon Anthony Doane</td>\n",
       "    </tr>\n",
       "    <tr>\n",
       "      <th>369709</th>\n",
       "      <td>4592018</td>\n",
       "      <td>Arapahoe</td>\n",
       "      <td>Raymon Anthony Doane</td>\n",
       "    </tr>\n",
       "    <tr>\n",
       "      <th>369710</th>\n",
       "      <td>4660518</td>\n",
       "      <td>Arapahoe</td>\n",
       "      <td>Raymon Anthony Doane</td>\n",
       "    </tr>\n",
       "  </tbody>\n",
       "</table>\n",
       "<p>369711 rows × 3 columns</p>\n",
       "</div>"
      ],
      "text/plain": [
       "        Ballot ID     County                Candidate\n",
       "0         1323913  Jefferson  Charles Casper Stockham\n",
       "1         1005842  Jefferson  Charles Casper Stockham\n",
       "2         1880345  Jefferson  Charles Casper Stockham\n",
       "3         1600337  Jefferson  Charles Casper Stockham\n",
       "4         1835994  Jefferson  Charles Casper Stockham\n",
       "...           ...        ...                      ...\n",
       "369706    4714953   Arapahoe     Raymon Anthony Doane\n",
       "369707    4497542   Arapahoe     Raymon Anthony Doane\n",
       "369708    4085849   Arapahoe     Raymon Anthony Doane\n",
       "369709    4592018   Arapahoe     Raymon Anthony Doane\n",
       "369710    4660518   Arapahoe     Raymon Anthony Doane\n",
       "\n",
       "[369711 rows x 3 columns]"
      ]
     },
     "execution_count": 1,
     "metadata": {},
     "output_type": "execute_result"
    }
   ],
   "source": [
    "import pandas as pd\n",
    "\n",
    "data = pd.read_csv('election_data.csv')\n",
    "\n",
    "data"
   ]
  },
  {
   "cell_type": "markdown",
   "id": "dd6c1ad6",
   "metadata": {},
   "source": [
    "## Total Number of votes cast"
   ]
  },
  {
   "cell_type": "code",
   "execution_count": 126,
   "id": "f55a6dfc",
   "metadata": {},
   "outputs": [
    {
     "name": "stdout",
     "output_type": "stream",
     "text": [
      "Total votes: 369711\n"
     ]
    },
    {
     "data": {
      "text/plain": [
       "array(['Jefferson', 'Denver', 'Arapahoe'], dtype=object)"
      ]
     },
     "execution_count": 126,
     "metadata": {},
     "output_type": "execute_result"
    }
   ],
   "source": [
    "total_vote = len(data['Ballot ID'])\n",
    "print(f\"Total votes: {total_vote}\")"
   ]
  },
  {
   "cell_type": "markdown",
   "id": "b2ea0875",
   "metadata": {},
   "source": [
    "## Complete list of candidates who received votes"
   ]
  },
  {
   "cell_type": "code",
   "execution_count": 3,
   "id": "a1e41d52",
   "metadata": {},
   "outputs": [
    {
     "name": "stdout",
     "output_type": "stream",
     "text": [
      "Candidates: \n",
      "\tCharles Casper Stockham\n",
      "\tDiana Degette\n",
      "\tRaymon Anthony Doane\n"
     ]
    }
   ],
   "source": [
    "def all_candidate():\n",
    "    \"\"\"\n",
    "    Func returns Distinct Candidates from the election\n",
    "    \n",
    "    \"\"\"\n",
    "    unique_candidate = pd.unique(data['Candidate'])\n",
    "    return unique_candidate\n",
    "    \n",
    "print('Candidates: ')\n",
    "for name in all_candidate():\n",
    "    print(f\"\\t{name.title()}\")"
   ]
  },
  {
   "cell_type": "markdown",
   "id": "ab5be6ad",
   "metadata": {},
   "source": [
    "## The percentage of votes each candidate won and the total number of votes each candidate won"
   ]
  },
  {
   "cell_type": "code",
   "execution_count": 6,
   "id": "864fbda4",
   "metadata": {},
   "outputs": [
    {
     "name": "stdout",
     "output_type": "stream",
     "text": [
      "Charles Casper Stockham: 23.049% (85213 votes)\n",
      "Diana DeGette: 73.812% (272892 votes)\n",
      "Raymon Anthony Doane: 3.139% (11606 votes)\n"
     ]
    }
   ],
   "source": [
    "def vote_per_candidate():\n",
    "    \n",
    "    \"\"\"\n",
    "    Func creates the total number of vote for each candidate in a dict\n",
    "    \"\"\"\n",
    "    count_vote = {}\n",
    "    candidate = data['Candidate']\n",
    "    \n",
    "    for vote in range(total_vote):\n",
    "        count_vote[candidate[vote]] = count_vote.get(candidate[vote], 0) + 1\n",
    "    return count_vote\n",
    "\n",
    "\n",
    "def percentage():\n",
    "    \"\"\"\n",
    "    Func calculates the percentage of vote each candidate have\n",
    "    \n",
    "    \"\"\"\n",
    "    num_of_votes = (num for num in vote_per_candidate().values())\n",
    "    percentage_of_votes = (((x / total_vote) * 100) for x in num_of_votes)\n",
    "    return percentage_of_votes\n",
    "\n",
    "\n",
    "def result():\n",
    "    name = []\n",
    "    vote = []\n",
    "    percent = []\n",
    "    result = {}\n",
    "    \n",
    "    #append candidates and individual votes\n",
    "    for n, v in zip(vote_per_candidate().keys(), vote_per_candidate().values()):\n",
    "        name.append(n)\n",
    "        vote.append(v)\n",
    "    #check for percentage\n",
    "    for p in percentage():\n",
    "        percent.append(round(p, 3))\n",
    "    #add result into dictionary\n",
    "    for i in range(len(name)):\n",
    "        result[name[i]] = {'total': vote[i], 'percentage': percent[i]}\n",
    "        \n",
    "    return result\n",
    "     \n",
    "#Display result\n",
    "result = result()\n",
    "for name in vote_per_candidate():\n",
    "    print(f\"{name}: {result[name]['percentage']}% ({result[name]['total']} votes)\")"
   ]
  },
  {
   "cell_type": "markdown",
   "id": "ff741443",
   "metadata": {},
   "source": [
    "## 🏆 The Winner of the election based on the popular vote"
   ]
  },
  {
   "cell_type": "code",
   "execution_count": 28,
   "id": "15344205",
   "metadata": {},
   "outputs": [
    {
     "name": "stdout",
     "output_type": "stream",
     "text": [
      "Winner: Diana DeGette\n"
     ]
    }
   ],
   "source": [
    "def winner():\n",
    "    votes = 0\n",
    "    win = str()\n",
    "    for winner in vote_per_candidate():\n",
    "        if result[winner]['total'] > votes:\n",
    "            votes = result[winner]['total']\n",
    "            win = winner\n",
    "\n",
    "    return (f\"Winner: {win}\")\n",
    "\n",
    "print(winner())"
   ]
  }
 ],
 "metadata": {
  "kernelspec": {
   "display_name": "Python 3 (ipykernel)",
   "language": "python",
   "name": "python3"
  },
  "language_info": {
   "codemirror_mode": {
    "name": "ipython",
    "version": 3
   },
   "file_extension": ".py",
   "mimetype": "text/x-python",
   "name": "python",
   "nbconvert_exporter": "python",
   "pygments_lexer": "ipython3",
   "version": "3.8.9"
  }
 },
 "nbformat": 4,
 "nbformat_minor": 5
}
