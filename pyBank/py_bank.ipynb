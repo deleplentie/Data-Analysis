{
 "cells": [
  {
   "cell_type": "markdown",
   "id": "a4ea2623",
   "metadata": {},
   "source": [
    "# pyBank TASK\n",
    "\n",
    "###### Cleaning Dataset and creating a new one from it"
   ]
  },
  {
   "cell_type": "code",
   "execution_count": 6,
   "id": "733bb9ae",
   "metadata": {
    "scrolled": true
   },
   "outputs": [],
   "source": [
    "import pandas as pd\n",
    "from datetime import date\n",
    "import numpy as np\n",
    "\n",
    "\n",
    "file = pd.read_csv('./Resources/budget_data.csv')\n",
    "\n",
    "\n",
    "#clean the date in dataset\n",
    "month = [m[:3] for m in file[\"Date\"]]\n",
    "day = [d[-2:] for d in file[\"Date\"]]\n",
    "\n",
    "\n",
    "##Redefine the month name, day and create a new column for clean analysis\n",
    "data = {\n",
    "    'month': month, \n",
    "    'day': day,\n",
    "    'income statement': file['Profit/Losses']\n",
    "    }\n",
    "\n",
    "## Saved as a new csv file\n",
    "new_data = pd.DataFrame(data)\n",
    "new_data.to_csv('new_budget_data.csv', index=False)\n",
    "\n",
    "\n",
    "#\n",
    "##\n",
    "###NEW DATASET\n",
    "dataset = pd.read_csv('./Resources/new_budget_data.csv')\n",
    "income_statement_column = dataset[\"income statement\"]\n",
    "month_column = dataset['month']\n",
    "day_column = dataset['day']"
   ]
  },
  {
   "cell_type": "markdown",
   "id": "7c5e9c1a",
   "metadata": {},
   "source": [
    "##   TASK 1  \n",
    "\n",
    "#### Total months included in the dataset ?"
   ]
  },
  {
   "cell_type": "code",
   "execution_count": 7,
   "id": "056bf0f6",
   "metadata": {
    "scrolled": true
   },
   "outputs": [
    {
     "name": "stdout",
     "output_type": "stream",
     "text": [
      "Total months: 86\n"
     ]
    }
   ],
   "source": [
    "print(f\"Total months: {len(month_column)}\")"
   ]
  },
  {
   "cell_type": "markdown",
   "id": "323c9fa5",
   "metadata": {},
   "source": [
    "##   TASK 2\n",
    "\n",
    "#### The net total amount of Profit / Losses over the entire period ?"
   ]
  },
  {
   "cell_type": "code",
   "execution_count": 8,
   "id": "f1e8f931",
   "metadata": {
    "scrolled": true
   },
   "outputs": [
    {
     "name": "stdout",
     "output_type": "stream",
     "text": [
      "Total: £22564198\n"
     ]
    }
   ],
   "source": [
    "total = 0\n",
    "\n",
    "for amount in income_statement_column:\n",
    "    total += amount\n",
    "        \n",
    "print(f\"Total: £{total}\")"
   ]
  },
  {
   "cell_type": "markdown",
   "id": "7d3df3d5",
   "metadata": {},
   "source": [
    "##   TASK 3\n",
    "\n",
    "#### The greatest increase in profits (date and amount) over the entire period ?"
   ]
  },
  {
   "cell_type": "code",
   "execution_count": 41,
   "id": "981a9411",
   "metadata": {},
   "outputs": [
    {
     "data": {
      "text/plain": [
       "'Greatest Increase in profits: Mar-13 £1141840'"
      ]
     },
     "execution_count": 41,
     "metadata": {},
     "output_type": "execute_result"
    }
   ],
   "source": [
    "def changes(check_for):\n",
    "    \"\"\"\n",
    "    This take only 1 parameter\n",
    "    \n",
    "    Increase or Decrease only\n",
    "    \n",
    "    \"\"\"\n",
    "    \n",
    "    output = check_for.lower()\n",
    "    date = str()\n",
    "    value = 0\n",
    "    \n",
    "    if output == 'increase':\n",
    "        for amount, month, day in zip(income_statement_column, month_column, day_column):\n",
    "            if amount > value:\n",
    "                value, date = amount, f\"{month}-{day}\"\n",
    "    \n",
    "    elif output == 'decrease':\n",
    "        for amount, month, day in zip(income_statement_column, month_column, day_column):\n",
    "            if amount < value:\n",
    "                value, date = amount, f\"{month}-{day}\"\n",
    "                \n",
    "    else:\n",
    "        return \"Invalid Entry. Increase or Decrease only\"\n",
    "    \n",
    "    return f\"Greatest {output.capitalize()} in profits: {date} £{value}\"\n",
    "            \n",
    "changes('increase')"
   ]
  },
  {
   "cell_type": "markdown",
   "id": "abb4e73a",
   "metadata": {},
   "source": [
    "## TASK 4\n",
    "\n",
    "####  The greatest decrease in profits (date and amount) over the entire period ?"
   ]
  },
  {
   "cell_type": "code",
   "execution_count": 38,
   "id": "2aff5d57",
   "metadata": {},
   "outputs": [
    {
     "data": {
      "text/plain": [
       "'Greatest Decrease in profits: Dec-10 £-1194133'"
      ]
     },
     "execution_count": 38,
     "metadata": {},
     "output_type": "execute_result"
    }
   ],
   "source": [
    "#Using the funchtion changes built in the previous task\n",
    "changes('decrease')"
   ]
  }
 ],
 "metadata": {
  "kernelspec": {
   "display_name": "Python 3 (ipykernel)",
   "language": "python",
   "name": "python3"
  },
  "language_info": {
   "codemirror_mode": {
    "name": "ipython",
    "version": 3
   },
   "file_extension": ".py",
   "mimetype": "text/x-python",
   "name": "python",
   "nbconvert_exporter": "python",
   "pygments_lexer": "ipython3",
   "version": "3.8.9"
  }
 },
 "nbformat": 4,
 "nbformat_minor": 5
}
